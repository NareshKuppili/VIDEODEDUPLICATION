{
  "nbformat": 4,
  "nbformat_minor": 0,
  "metadata": {
    "colab": {
      "provenance": [],
      "toc_visible": true,
      "authorship_tag": "ABX9TyM37ymSlcDU6ftoumSyfct/",
      "include_colab_link": true
    },
    "kernelspec": {
      "name": "python3",
      "display_name": "Python 3"
    },
    "language_info": {
      "name": "python"
    }
  },
  "cells": [
    {
      "cell_type": "markdown",
      "metadata": {
        "id": "view-in-github",
        "colab_type": "text"
      },
      "source": [
        "<a href=\"https://colab.research.google.com/github/NareshKuppili/VIDEODEDUPLICATION/blob/main/Upgrad_Thesis.ipynb\" target=\"_parent\"><img src=\"https://colab.research.google.com/assets/colab-badge.svg\" alt=\"Open In Colab\"/></a>"
      ]
    },
    {
      "cell_type": "code",
      "execution_count": null,
      "metadata": {
        "id": "p3_2kJtt29sQ"
      },
      "outputs": [],
      "source": [
        "# Install the necessary libraries (uncomment the lines below when running in Colab)\n",
        "# !pip install imagehash\n",
        "# !pip install moviepy\n",
        "# !pip install tensorflow\n",
        "\n",
        "import os\n",
        "import imagehash\n",
        "from PIL import Image\n",
        "from moviepy.editor import VideoFileClip\n",
        "import tensorflow as tf\n",
        "import tensorflow_datasets as tfds\n",
        "\n",
        "# Function to extract frames from a video and calculate their hashes\n",
        "def extract_frames_and_hashes(video_path, frame_rate=1):\n",
        "    video_clip = VideoFileClip(video_path)\n",
        "    frames_hashes = {}\n",
        "    for t in range(0, int(video_clip.duration), frame_rate):\n",
        "        frame = video_clip.get_frame(t)\n",
        "        frame_image = Image.fromarray(frame)\n",
        "        frame_hash = imagehash.average_hash(frame_image)\n",
        "        frames_hashes[t] = frame_hash\n",
        "    video_clip.close()\n",
        "    return frames_hashes\n",
        "\n",
        "# Function to find duplicate frames based on their hashes\n",
        "def find_duplicate_frames(frames_hashes, hash_threshold=5):\n",
        "    duplicates = []\n",
        "    keys = sorted(frames_hashes.keys())\n",
        "    for i in range(len(keys) - 1):\n",
        "        if frames_hashes[keys[i]] - frames_hashes[keys[i + 1]] < hash_threshold:\n",
        "            duplicates.append((keys[i], keys[i + 1]))\n",
        "    return duplicates\n",
        "\n",
        "# Load the UCF101 dataset\n",
        "ds, ds_info = tfds.load('ucf101', split='train', with_info=True)\n",
        "\n",
        "# Sample usage with the UCF101 dataset\n",
        "for example in ds.take(1):  # Take only one example to demonstrate\n",
        "    video_path = example['video']  # Get the video tensor from the dataset\n",
        "    frames_hashes = extract_frames_and_hashes(video_path.numpy())\n",
        "    duplicates = find_duplicate_frames(frames_hashes)\n",
        "\n",
        "    # Output the duplicate frames\n",
        "    print(\"Duplicate frames found:\")\n",
        "    for dup in duplicates:\n",
        "        print(f\"Frame at {dup[0]}s is similar to frame at {dup[1]}s\")\n",
        "\n",
        "# Note: The above code is a template and may require adjustments based on the actual structure of the UCF101 dataset.\n",
        "# The 'video_path' variable should be replaced with the actual path to the video file within the dataset.\n",
        "# Additional code may be needed to properly extract video files from the dataset before processing.\n"
      ]
    }
  ]
}